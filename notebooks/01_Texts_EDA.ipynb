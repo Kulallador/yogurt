{
 "cells": [
  {
   "cell_type": "code",
   "execution_count": 122,
   "metadata": {},
   "outputs": [
    {
     "name": "stdout",
     "output_type": "stream",
     "text": [
      "The autoreload extension is already loaded. To reload it, use:\n",
      "  %reload_ext autoreload\n"
     ]
    }
   ],
   "source": [
    "import os\n",
    "import re\n",
    "import sys\n",
    "\n",
    "import razdel\n",
    "import pandas as pd\n",
    "import numpy as np\n",
    "\n",
    "sys.path.append('..')\n",
    "\n",
    "from src import utils\n",
    "\n",
    "%load_ext autoreload\n",
    "%autoreload 2"
   ]
  },
  {
   "cell_type": "code",
   "execution_count": 123,
   "metadata": {},
   "outputs": [
    {
     "name": "stdout",
     "output_type": "stream",
     "text": [
      "File size is 0.00 GB\n"
     ]
    }
   ],
   "source": [
    "filepath = '../data/ruwiki-yo-sentences.txt'\n",
    "print(f'File size is {os.stat(filepath).st_size / (1024 ** 3):.2f} GB')"
   ]
  },
  {
   "cell_type": "code",
   "execution_count": 124,
   "metadata": {},
   "outputs": [],
   "source": [
    "with open(filepath) as file:\n",
    "    data = file.readlines()"
   ]
  },
  {
   "cell_type": "code",
   "execution_count": 125,
   "metadata": {},
   "outputs": [],
   "source": [
    "for sentence in data:\n",
    "    if 'Помимо фотоэлектрического колориметра' in sentence:\n",
    "        break"
   ]
  },
  {
   "cell_type": "code",
   "execution_count": 126,
   "metadata": {},
   "outputs": [
    {
     "data": {
      "text/plain": [
       "'Помимо фотоэлектрического колориметра   с непосредственным отсчётом силы тока, распространены компенсационные колориметры, в которых разность сигналов, соответствующих стандартному и измеряемому растворам, сводится к нулю   электрическим или оптическим компенсатором  ; отсчёт в этом случае снимается со шкалы компенсатора.\\n'"
      ]
     },
     "execution_count": 126,
     "metadata": {},
     "output_type": "execute_result"
    }
   ],
   "source": [
    "sentence"
   ]
  },
  {
   "cell_type": "code",
   "execution_count": 127,
   "metadata": {},
   "outputs": [
    {
     "data": {
      "text/plain": [
       "'Грамматическое значение лексем передаётся, как правило, с помощью флексий.\\n'"
      ]
     },
     "execution_count": 127,
     "metadata": {},
     "output_type": "execute_result"
    }
   ],
   "source": [
    "data[2]"
   ]
  },
  {
   "cell_type": "code",
   "execution_count": 128,
   "metadata": {},
   "outputs": [
    {
     "data": {
      "text/html": [
       "<div>\n",
       "<style scoped>\n",
       "    .dataframe tbody tr th:only-of-type {\n",
       "        vertical-align: middle;\n",
       "    }\n",
       "\n",
       "    .dataframe tbody tr th {\n",
       "        vertical-align: top;\n",
       "    }\n",
       "\n",
       "    .dataframe thead th {\n",
       "        text-align: right;\n",
       "    }\n",
       "</style>\n",
       "<table border=\"1\" class=\"dataframe\">\n",
       "  <thead>\n",
       "    <tr style=\"text-align: right;\">\n",
       "      <th></th>\n",
       "      <th>text</th>\n",
       "    </tr>\n",
       "  </thead>\n",
       "  <tbody>\n",
       "    <tr>\n",
       "      <th>0</th>\n",
       "      <td>Является одним из наиболее распространённых яз...</td>\n",
       "    </tr>\n",
       "    <tr>\n",
       "      <th>1</th>\n",
       "      <td>Русский является также самым распространённым ...</td>\n",
       "    </tr>\n",
       "    <tr>\n",
       "      <th>2</th>\n",
       "      <td>Грамматическое значение лексем передаётся, как...</td>\n",
       "    </tr>\n",
       "    <tr>\n",
       "      <th>3</th>\n",
       "      <td>Наряду с синтетическими формами, в русском язы...</td>\n",
       "    </tr>\n",
       "    <tr>\n",
       "      <th>4</th>\n",
       "      <td>В первой половине века этот лингвоним архаизир...</td>\n",
       "    </tr>\n",
       "  </tbody>\n",
       "</table>\n",
       "</div>"
      ],
      "text/plain": [
       "                                                text\n",
       "0  Является одним из наиболее распространённых яз...\n",
       "1  Русский является также самым распространённым ...\n",
       "2  Грамматическое значение лексем передаётся, как...\n",
       "3  Наряду с синтетическими формами, в русском язы...\n",
       "4  В первой половине века этот лингвоним архаизир..."
      ]
     },
     "execution_count": 128,
     "metadata": {},
     "output_type": "execute_result"
    }
   ],
   "source": [
    "data = pd.DataFrame(data, columns=('text',))\n",
    "data.head()"
   ]
  },
  {
   "cell_type": "code",
   "execution_count": 129,
   "metadata": {},
   "outputs": [
    {
     "data": {
      "text/plain": [
       "count    1000.000000\n",
       "mean      222.726000\n",
       "std       196.539688\n",
       "min         2.000000\n",
       "25%       104.000000\n",
       "50%       174.000000\n",
       "75%       278.500000\n",
       "max      2059.000000\n",
       "Name: length, dtype: float64"
      ]
     },
     "execution_count": 129,
     "metadata": {},
     "output_type": "execute_result"
    }
   ],
   "source": [
    "data.text = data.text.str.strip('\\n')\n",
    "data.text = data.text.apply(utils.remove_multiple_spaces)\n",
    "data['length'] = data.text.apply(len)\n",
    "data.length.describe()"
   ]
  },
  {
   "cell_type": "code",
   "execution_count": 130,
   "metadata": {},
   "outputs": [
    {
     "data": {
      "text/plain": [
       "'Многочисленные аспекты исторической русистики отражены в исследованиях В. И. Борковского, С. И. Коткова, П. С. Кузнецова, Т. П. Ломтева, С. П. Обнорского, Ф. П. Филина, П. Я. Черных, Л. П. Якубинского; труды по русской диалектологии издают Р. И. Аванесов, К. Ф. Захарова, В. Г. Орлова, К. В. Горшкова, С. В. Бромлей, Л. Н. Булатова, И. Б. Кузьмина; в области фонетики и фонологии появляются работы представителей московской фонологической школы Р. И. Аванесова, А. А. Реформатского, П. С. Кузнецова, М. В. Панова, представителей ленинградской фонологической школы Л. Р. Зиндера, М. И. Матусевич; в области орфоэпии работы Р. И. Аванесова и Н. А. Еськовой; в области интонации работы Е. А. Брызгуновой, Т. М. Николаевой; в области грамматики работы В. Н. Сидорова, П. С. Кузнецова, Н. С. Поспелова, Т. П. Ломтева, А. В. Исаченко, Б. Н. Головина, Ю. С. Маслова, Н. Ю. Шведовой, Д. Н. Шмелёва, А. В. Бондарко, А. А. Зализняка, Ю. Д. Апресяна, И. П. Мучника, Г. А. Золотовой, В. А. Белошапковой, Н. Д. Ар'"
      ]
     },
     "execution_count": 130,
     "metadata": {},
     "output_type": "execute_result"
    }
   ],
   "source": [
    "data[data.length.eq(data.length.max())].iloc[0].text[:1000]"
   ]
  },
  {
   "cell_type": "code",
   "execution_count": 131,
   "metadata": {},
   "outputs": [],
   "source": [
    "def clean_by_length_iqr(\n",
    "    data: pd.DataFrame, \n",
    "    q1: float = 0.25, \n",
    "    q3: float = 0.75,\n",
    "    offset: float = 1.5,\n",
    ") -> pd.DataFrame:\n",
    "    q1 = data.length.quantile(q1)\n",
    "    q3 = data.length.quantile(q3)\n",
    "    iqr = q3 - q1\n",
    "    lo = q1 - offset * iqr\n",
    "    hi = q3 + offset * iqr\n",
    "    return data[data.length.between(lo, hi)]"
   ]
  },
  {
   "cell_type": "markdown",
   "metadata": {},
   "source": []
  },
  {
   "cell_type": "code",
   "execution_count": 158,
   "metadata": {},
   "outputs": [
    {
     "data": {
      "text/plain": [
       "count    602.000000\n",
       "mean     132.270764\n",
       "std       51.916272\n",
       "min       27.000000\n",
       "25%       92.250000\n",
       "50%      131.000000\n",
       "75%      175.000000\n",
       "max      223.000000\n",
       "Name: length, dtype: float64"
      ]
     },
     "execution_count": 158,
     "metadata": {},
     "output_type": "execute_result"
    }
   ],
   "source": [
    "clean_data = clean_by_length_iqr(data, q1=0.15, q3=0.5, offset=0.5)\n",
    "clean_data.length.describe()"
   ]
  },
  {
   "cell_type": "code",
   "execution_count": 159,
   "metadata": {},
   "outputs": [
    {
     "data": {
      "text/html": [
       "<div>\n",
       "<style scoped>\n",
       "    .dataframe tbody tr th:only-of-type {\n",
       "        vertical-align: middle;\n",
       "    }\n",
       "\n",
       "    .dataframe tbody tr th {\n",
       "        vertical-align: top;\n",
       "    }\n",
       "\n",
       "    .dataframe thead th {\n",
       "        text-align: right;\n",
       "    }\n",
       "</style>\n",
       "<table border=\"1\" class=\"dataframe\">\n",
       "  <thead>\n",
       "    <tr style=\"text-align: right;\">\n",
       "      <th></th>\n",
       "      <th>text</th>\n",
       "      <th>length</th>\n",
       "    </tr>\n",
       "  </thead>\n",
       "  <tbody>\n",
       "    <tr>\n",
       "      <th>376</th>\n",
       "      <td>Он ещё молод, время не ушло</td>\n",
       "      <td>27</td>\n",
       "    </tr>\n",
       "    <tr>\n",
       "      <th>391</th>\n",
       "      <td>Василия Чеботарёва , 1861.</td>\n",
       "      <td>27</td>\n",
       "    </tr>\n",
       "  </tbody>\n",
       "</table>\n",
       "</div>"
      ],
      "text/plain": [
       "                            text  length\n",
       "376  Он ещё молод, время не ушло      27\n",
       "391   Василия Чеботарёва , 1861.      27"
      ]
     },
     "execution_count": 159,
     "metadata": {},
     "output_type": "execute_result"
    }
   ],
   "source": [
    "clean_data[clean_data.length.eq(clean_data.length.min())]"
   ]
  },
  {
   "cell_type": "code",
   "execution_count": 160,
   "metadata": {},
   "outputs": [
    {
     "data": {
      "text/html": [
       "<div>\n",
       "<style scoped>\n",
       "    .dataframe tbody tr th:only-of-type {\n",
       "        vertical-align: middle;\n",
       "    }\n",
       "\n",
       "    .dataframe tbody tr th {\n",
       "        vertical-align: top;\n",
       "    }\n",
       "\n",
       "    .dataframe thead th {\n",
       "        text-align: right;\n",
       "    }\n",
       "</style>\n",
       "<table border=\"1\" class=\"dataframe\">\n",
       "  <thead>\n",
       "    <tr style=\"text-align: right;\">\n",
       "      <th></th>\n",
       "      <th>text</th>\n",
       "      <th>length</th>\n",
       "    </tr>\n",
       "  </thead>\n",
       "  <tbody>\n",
       "    <tr>\n",
       "      <th>206</th>\n",
       "      <td>М. Элиаде писал:Каждый миф показывает, каким о...</td>\n",
       "      <td>223</td>\n",
       "    </tr>\n",
       "    <tr>\n",
       "      <th>236</th>\n",
       "      <td>В рамках фольклористики она может называться м...</td>\n",
       "      <td>223</td>\n",
       "    </tr>\n",
       "    <tr>\n",
       "      <th>576</th>\n",
       "      <td>Метод приготовления держался в секрете до моме...</td>\n",
       "      <td>223</td>\n",
       "    </tr>\n",
       "    <tr>\n",
       "      <th>932</th>\n",
       "      <td>Напротив, понятие страны имеет более ёмкое кул...</td>\n",
       "      <td>223</td>\n",
       "    </tr>\n",
       "  </tbody>\n",
       "</table>\n",
       "</div>"
      ],
      "text/plain": [
       "                                                  text  length\n",
       "206  М. Элиаде писал:Каждый миф показывает, каким о...     223\n",
       "236  В рамках фольклористики она может называться м...     223\n",
       "576  Метод приготовления держался в секрете до моме...     223\n",
       "932  Напротив, понятие страны имеет более ёмкое кул...     223"
      ]
     },
     "execution_count": 160,
     "metadata": {},
     "output_type": "execute_result"
    }
   ],
   "source": [
    "clean_data[clean_data.length.eq(clean_data.length.max())]"
   ]
  },
  {
   "cell_type": "code",
   "execution_count": 161,
   "metadata": {},
   "outputs": [
    {
     "data": {
      "text/plain": [
       "'В отличие от остальных знаменательных частей речи русского языка, у числительного различительные признаки части речи представлены менее чётко.'"
      ]
     },
     "execution_count": 161,
     "metadata": {},
     "output_type": "execute_result"
    }
   ],
   "source": [
    "clean_data.iloc[30].text"
   ]
  },
  {
   "cell_type": "code",
   "execution_count": 162,
   "metadata": {},
   "outputs": [],
   "source": [
    "import string\n",
    "\n",
    "def token_features(text: str) -> pd.Series:\n",
    "    yo_tokens = []\n",
    "    num_words = 0\n",
    "    i = -1\n",
    "    for i, word in enumerate(razdel.tokenize(text)):\n",
    "        if word.text not in string.punctuation:\n",
    "            num_words += 1\n",
    "        if 'ё' in word.text.lower():\n",
    "            yo_tokens.append(i)\n",
    "    return pd.Series(dict(\n",
    "        yo_tokens=yo_tokens,\n",
    "        num_words=num_words,\n",
    "        num_tokens=i + 1,\n",
    "    ))"
   ]
  },
  {
   "cell_type": "code",
   "execution_count": 163,
   "metadata": {},
   "outputs": [
    {
     "data": {
      "text/plain": [
       "yo_tokens     [18]\n",
       "num_words       18\n",
       "num_tokens      20\n",
       "dtype: object"
      ]
     },
     "execution_count": 163,
     "metadata": {},
     "output_type": "execute_result"
    }
   ],
   "source": [
    "token_features(clean_data.iloc[30].text)"
   ]
  },
  {
   "cell_type": "code",
   "execution_count": 164,
   "metadata": {},
   "outputs": [],
   "source": [
    "from tqdm import tqdm\n",
    "\n",
    "tqdm.pandas()"
   ]
  },
  {
   "cell_type": "code",
   "execution_count": 165,
   "metadata": {},
   "outputs": [
    {
     "name": "stderr",
     "output_type": "stream",
     "text": [
      "100%|██████████| 602/602 [00:00<00:00, 6121.93it/s]\n"
     ]
    }
   ],
   "source": [
    "features = clean_data.text.progress_apply(token_features)"
   ]
  },
  {
   "cell_type": "code",
   "execution_count": 166,
   "metadata": {},
   "outputs": [
    {
     "data": {
      "text/html": [
       "<div>\n",
       "<style scoped>\n",
       "    .dataframe tbody tr th:only-of-type {\n",
       "        vertical-align: middle;\n",
       "    }\n",
       "\n",
       "    .dataframe tbody tr th {\n",
       "        vertical-align: top;\n",
       "    }\n",
       "\n",
       "    .dataframe thead th {\n",
       "        text-align: right;\n",
       "    }\n",
       "</style>\n",
       "<table border=\"1\" class=\"dataframe\">\n",
       "  <thead>\n",
       "    <tr style=\"text-align: right;\">\n",
       "      <th></th>\n",
       "      <th>text</th>\n",
       "      <th>length</th>\n",
       "      <th>yo_tokens</th>\n",
       "      <th>num_words</th>\n",
       "      <th>num_tokens</th>\n",
       "      <th>num_yo_tokens</th>\n",
       "    </tr>\n",
       "  </thead>\n",
       "  <tbody>\n",
       "    <tr>\n",
       "      <th>0</th>\n",
       "      <td>Является одним из наиболее распространённых яз...</td>\n",
       "      <td>166</td>\n",
       "      <td>[4]</td>\n",
       "      <td>24</td>\n",
       "      <td>25</td>\n",
       "      <td>1</td>\n",
       "    </tr>\n",
       "    <tr>\n",
       "      <th>2</th>\n",
       "      <td>Грамматическое значение лексем передаётся, как...</td>\n",
       "      <td>74</td>\n",
       "      <td>[3]</td>\n",
       "      <td>9</td>\n",
       "      <td>12</td>\n",
       "      <td>1</td>\n",
       "    </tr>\n",
       "    <tr>\n",
       "      <th>4</th>\n",
       "      <td>В первой половине века этот лингвоним архаизир...</td>\n",
       "      <td>95</td>\n",
       "      <td>[8]</td>\n",
       "      <td>13</td>\n",
       "      <td>14</td>\n",
       "      <td>1</td>\n",
       "    </tr>\n",
       "    <tr>\n",
       "      <th>5</th>\n",
       "      <td>Согласно переписи 2002 года, владение русским ...</td>\n",
       "      <td>199</td>\n",
       "      <td>[20]</td>\n",
       "      <td>27</td>\n",
       "      <td>32</td>\n",
       "      <td>1</td>\n",
       "    </tr>\n",
       "    <tr>\n",
       "      <th>10</th>\n",
       "      <td>Он используется во всех сферах политической, э...</td>\n",
       "      <td>153</td>\n",
       "      <td>[16]</td>\n",
       "      <td>21</td>\n",
       "      <td>25</td>\n",
       "      <td>1</td>\n",
       "    </tr>\n",
       "    <tr>\n",
       "      <th>12</th>\n",
       "      <td>Он сравнительно широко распространён и во мног...</td>\n",
       "      <td>69</td>\n",
       "      <td>[3]</td>\n",
       "      <td>10</td>\n",
       "      <td>11</td>\n",
       "      <td>1</td>\n",
       "    </tr>\n",
       "    <tr>\n",
       "      <th>14</th>\n",
       "      <td>На нём создана богатая оригинальная художестве...</td>\n",
       "      <td>161</td>\n",
       "      <td>[1]</td>\n",
       "      <td>21</td>\n",
       "      <td>24</td>\n",
       "      <td>1</td>\n",
       "    </tr>\n",
       "    <tr>\n",
       "      <th>16</th>\n",
       "      <td>В нём выделяются две разновидности, письменная...</td>\n",
       "      <td>61</td>\n",
       "      <td>[1]</td>\n",
       "      <td>8</td>\n",
       "      <td>10</td>\n",
       "      <td>1</td>\n",
       "    </tr>\n",
       "    <tr>\n",
       "      <th>17</th>\n",
       "      <td>Современный литературный русский язык обрёл св...</td>\n",
       "      <td>196</td>\n",
       "      <td>[4]</td>\n",
       "      <td>27</td>\n",
       "      <td>31</td>\n",
       "      <td>1</td>\n",
       "    </tr>\n",
       "    <tr>\n",
       "      <th>18</th>\n",
       "      <td>Как предмет научных исследований русский язык ...</td>\n",
       "      <td>134</td>\n",
       "      <td>[6]</td>\n",
       "      <td>17</td>\n",
       "      <td>18</td>\n",
       "      <td>1</td>\n",
       "    </tr>\n",
       "  </tbody>\n",
       "</table>\n",
       "</div>"
      ],
      "text/plain": [
       "                                                 text  length yo_tokens  \\\n",
       "0   Является одним из наиболее распространённых яз...     166       [4]   \n",
       "2   Грамматическое значение лексем передаётся, как...      74       [3]   \n",
       "4   В первой половине века этот лингвоним архаизир...      95       [8]   \n",
       "5   Согласно переписи 2002 года, владение русским ...     199      [20]   \n",
       "10  Он используется во всех сферах политической, э...     153      [16]   \n",
       "12  Он сравнительно широко распространён и во мног...      69       [3]   \n",
       "14  На нём создана богатая оригинальная художестве...     161       [1]   \n",
       "16  В нём выделяются две разновидности, письменная...      61       [1]   \n",
       "17  Современный литературный русский язык обрёл св...     196       [4]   \n",
       "18  Как предмет научных исследований русский язык ...     134       [6]   \n",
       "\n",
       "    num_words  num_tokens  num_yo_tokens  \n",
       "0          24          25              1  \n",
       "2           9          12              1  \n",
       "4          13          14              1  \n",
       "5          27          32              1  \n",
       "10         21          25              1  \n",
       "12         10          11              1  \n",
       "14         21          24              1  \n",
       "16          8          10              1  \n",
       "17         27          31              1  \n",
       "18         17          18              1  "
      ]
     },
     "execution_count": 166,
     "metadata": {},
     "output_type": "execute_result"
    }
   ],
   "source": [
    "clean_data = pd.concat((clean_data, features), axis=1)\n",
    "clean_data['num_yo_tokens'] = clean_data.yo_tokens.apply(len)\n",
    "\n",
    "clean_data.head(10)"
   ]
  },
  {
   "cell_type": "code",
   "execution_count": 167,
   "metadata": {},
   "outputs": [
    {
     "data": {
      "text/plain": [
       "count    602.000000\n",
       "mean       0.133411\n",
       "std        0.020486\n",
       "min        0.067669\n",
       "25%        0.120710\n",
       "50%        0.131350\n",
       "75%        0.144385\n",
       "max        0.233333\n",
       "Name: words_to_length_ratio, dtype: float64"
      ]
     },
     "execution_count": 167,
     "metadata": {},
     "output_type": "execute_result"
    }
   ],
   "source": [
    "clean_data['words_to_length_ratio'] = clean_data.num_words / clean_data.length\n",
    "\n",
    "clean_data.words_to_length_ratio.describe()"
   ]
  },
  {
   "cell_type": "code",
   "execution_count": 171,
   "metadata": {},
   "outputs": [
    {
     "data": {
      "text/plain": [
       "'4-я буква форма частиц .Товарный силикагель обычно выпускают в виде зёрен или шаровидных гранул размером от 5 7 до 10 мм.'"
      ]
     },
     "execution_count": 171,
     "metadata": {},
     "output_type": "execute_result"
    }
   ],
   "source": [
    "clean_data[clean_data.words_to_length_ratio.ge(clean_data.words_to_length_ratio.quantile(0.7))].iloc[10].text"
   ]
  },
  {
   "cell_type": "code",
   "execution_count": 121,
   "metadata": {},
   "outputs": [],
   "source": [
    "# todo: спросить в чатах нет ли какой-то нарезки получше для слипшихся предложений"
   ]
  },
  {
   "cell_type": "code",
   "execution_count": 20,
   "metadata": {},
   "outputs": [
    {
     "data": {
      "text/html": [
       "<div>\n",
       "<style scoped>\n",
       "    .dataframe tbody tr th:only-of-type {\n",
       "        vertical-align: middle;\n",
       "    }\n",
       "\n",
       "    .dataframe tbody tr th {\n",
       "        vertical-align: top;\n",
       "    }\n",
       "\n",
       "    .dataframe thead th {\n",
       "        text-align: right;\n",
       "    }\n",
       "</style>\n",
       "<table border=\"1\" class=\"dataframe\">\n",
       "  <thead>\n",
       "    <tr style=\"text-align: right;\">\n",
       "      <th></th>\n",
       "      <th>text</th>\n",
       "      <th>length</th>\n",
       "      <th>yo_tokens</th>\n",
       "      <th>num_words</th>\n",
       "      <th>num_tokens</th>\n",
       "      <th>num_yo_tokens</th>\n",
       "    </tr>\n",
       "  </thead>\n",
       "  <tbody>\n",
       "    <tr>\n",
       "      <th>16</th>\n",
       "      <td>В этот же период литовские князья из династии ...</td>\n",
       "      <td>233</td>\n",
       "      <td>[10, 25]</td>\n",
       "      <td>32</td>\n",
       "      <td>34</td>\n",
       "      <td>2</td>\n",
       "    </tr>\n",
       "    <tr>\n",
       "      <th>25</th>\n",
       "      <td>Вос­ста­но­ви­тель­ный пе­ри­од в Литве был ос...</td>\n",
       "      <td>164</td>\n",
       "      <td>[5, 9]</td>\n",
       "      <td>3</td>\n",
       "      <td>16</td>\n",
       "      <td>2</td>\n",
       "    </tr>\n",
       "    <tr>\n",
       "      <th>34</th>\n",
       "      <td>Ещё относительно дешёвая, и хорошо образованна...</td>\n",
       "      <td>91</td>\n",
       "      <td>[0, 2]</td>\n",
       "      <td>13</td>\n",
       "      <td>17</td>\n",
       "      <td>2</td>\n",
       "    </tr>\n",
       "    <tr>\n",
       "      <th>43</th>\n",
       "      <td>Г. Форстер, Ж. Жилибер, И. Франк и многие друг...</td>\n",
       "      <td>106</td>\n",
       "      <td>[14, 15]</td>\n",
       "      <td>15</td>\n",
       "      <td>21</td>\n",
       "      <td>2</td>\n",
       "    </tr>\n",
       "    <tr>\n",
       "      <th>44</th>\n",
       "      <td>Основание Вильнюсского университета в 1579 год...</td>\n",
       "      <td>183</td>\n",
       "      <td>[12, 22]</td>\n",
       "      <td>24</td>\n",
       "      <td>25</td>\n",
       "      <td>2</td>\n",
       "    </tr>\n",
       "    <tr>\n",
       "      <th>...</th>\n",
       "      <td>...</td>\n",
       "      <td>...</td>\n",
       "      <td>...</td>\n",
       "      <td>...</td>\n",
       "      <td>...</td>\n",
       "      <td>...</td>\n",
       "    </tr>\n",
       "    <tr>\n",
       "      <th>999751</th>\n",
       "      <td>Почётный доктор богословия «Honoris causa» Кие...</td>\n",
       "      <td>196</td>\n",
       "      <td>[0, 22]</td>\n",
       "      <td>23</td>\n",
       "      <td>28</td>\n",
       "      <td>2</td>\n",
       "    </tr>\n",
       "    <tr>\n",
       "      <th>999756</th>\n",
       "      <td>В 1958—1960 годах учился в Киевской духовной с...</td>\n",
       "      <td>150</td>\n",
       "      <td>[10, 13]</td>\n",
       "      <td>21</td>\n",
       "      <td>25</td>\n",
       "      <td>2</td>\n",
       "    </tr>\n",
       "    <tr>\n",
       "      <th>999758</th>\n",
       "      <td>Учёным советом Киевской духовной академии от 2...</td>\n",
       "      <td>272</td>\n",
       "      <td>[0, 11, 24, 35]</td>\n",
       "      <td>36</td>\n",
       "      <td>40</td>\n",
       "      <td>4</td>\n",
       "    </tr>\n",
       "    <tr>\n",
       "      <th>999775</th>\n",
       "      <td>Как сообщается, проведённый Генеральной прокур...</td>\n",
       "      <td>160</td>\n",
       "      <td>[3, 8]</td>\n",
       "      <td>19</td>\n",
       "      <td>23</td>\n",
       "      <td>2</td>\n",
       "    </tr>\n",
       "    <tr>\n",
       "      <th>999779</th>\n",
       "      <td>И что ещё немаловажно — ему не хотелось «корёж...</td>\n",
       "      <td>155</td>\n",
       "      <td>[2, 9]</td>\n",
       "      <td>18</td>\n",
       "      <td>24</td>\n",
       "      <td>2</td>\n",
       "    </tr>\n",
       "  </tbody>\n",
       "</table>\n",
       "<p>158512 rows × 6 columns</p>\n",
       "</div>"
      ],
      "text/plain": [
       "                                                     text  length  \\\n",
       "16      В этот же период литовские князья из династии ...     233   \n",
       "25      Вос­ста­но­ви­тель­ный пе­ри­од в Литве был ос...     164   \n",
       "34      Ещё относительно дешёвая, и хорошо образованна...      91   \n",
       "43      Г. Форстер, Ж. Жилибер, И. Франк и многие друг...     106   \n",
       "44      Основание Вильнюсского университета в 1579 год...     183   \n",
       "...                                                   ...     ...   \n",
       "999751  Почётный доктор богословия «Honoris causa» Кие...     196   \n",
       "999756  В 1958—1960 годах учился в Киевской духовной с...     150   \n",
       "999758  Учёным советом Киевской духовной академии от 2...     272   \n",
       "999775  Как сообщается, проведённый Генеральной прокур...     160   \n",
       "999779  И что ещё немаловажно — ему не хотелось «корёж...     155   \n",
       "\n",
       "              yo_tokens  num_words  num_tokens  num_yo_tokens  \n",
       "16             [10, 25]         32          34              2  \n",
       "25               [5, 9]          3          16              2  \n",
       "34               [0, 2]         13          17              2  \n",
       "43             [14, 15]         15          21              2  \n",
       "44             [12, 22]         24          25              2  \n",
       "...                 ...        ...         ...            ...  \n",
       "999751          [0, 22]         23          28              2  \n",
       "999756         [10, 13]         21          25              2  \n",
       "999758  [0, 11, 24, 35]         36          40              4  \n",
       "999775           [3, 8]         19          23              2  \n",
       "999779           [2, 9]         18          24              2  \n",
       "\n",
       "[158512 rows x 6 columns]"
      ]
     },
     "execution_count": 20,
     "metadata": {},
     "output_type": "execute_result"
    }
   ],
   "source": [
    "clean_data[clean_data.num_yo_tokens.gt(1)]"
   ]
  },
  {
   "cell_type": "code",
   "execution_count": 21,
   "metadata": {},
   "outputs": [
    {
     "data": {
      "text/plain": [
       "text             Учёным советом Киевской духовной академии от 2...\n",
       "length                                                         272\n",
       "yo_tokens                                          [0, 11, 24, 35]\n",
       "num_words                                                       36\n",
       "num_tokens                                                      40\n",
       "num_yo_tokens                                                    4\n",
       "Name: 999758, dtype: object"
      ]
     },
     "execution_count": 21,
     "metadata": {},
     "output_type": "execute_result"
    }
   ],
   "source": [
    "clean_data.loc[999758]"
   ]
  },
  {
   "cell_type": "code",
   "execution_count": null,
   "metadata": {},
   "outputs": [],
   "source": []
  }
 ],
 "metadata": {
  "kernelspec": {
   "display_name": "Python 3.9.13 ('venv': venv)",
   "language": "python",
   "name": "python3"
  },
  "language_info": {
   "codemirror_mode": {
    "name": "ipython",
    "version": 3
   },
   "file_extension": ".py",
   "mimetype": "text/x-python",
   "name": "python",
   "nbconvert_exporter": "python",
   "pygments_lexer": "ipython3",
   "version": "3.9.13 (main, Jul 22 2022, 14:44:44) \n[Clang 13.1.6 (clang-1316.0.21.2.5)]"
  },
  "orig_nbformat": 4,
  "vscode": {
   "interpreter": {
    "hash": "b297fbb61c0be02dd5f4c4de5e5940ca5a8cb2db7807ed23e12864d0dba54868"
   }
  }
 },
 "nbformat": 4,
 "nbformat_minor": 2
}
