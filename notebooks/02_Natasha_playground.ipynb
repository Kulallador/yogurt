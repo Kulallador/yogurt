{
 "cells": [
  {
   "cell_type": "code",
   "execution_count": 2,
   "metadata": {},
   "outputs": [
    {
     "name": "stdout",
     "output_type": "stream",
     "text": [
      "Лёне показалось, что в его комнате призрак.\n"
     ]
    }
   ],
   "source": [
    "from natasha import Doc\n",
    "from natasha import NewsEmbedding, NewsSyntaxParser, Segmenter\n",
    "\n",
    "\n",
    "text = 'Лёне показалось, что в его комнате призрак.'\n",
    "print(text)\n",
    "\n",
    "segmenter = Segmenter()\n",
    "syntax_parser = NewsSyntaxParser(NewsEmbedding())\n",
    "\n",
    "doc = Doc(text)\n",
    "doc.segment(segmenter)\n"
   ]
  },
  {
   "cell_type": "code",
   "execution_count": 3,
   "metadata": {},
   "outputs": [
    {
     "name": "stdout",
     "output_type": "stream",
     "text": [
      "          ┌► Лёне       nsubj\n",
      "┌─┌───────└─ показалось \n",
      "│ │ ┌──────► ,          punct\n",
      "│ │ │ ┌────► что        mark\n",
      "│ │ │ │ ┌──► в          case\n",
      "│ │ │ │ │ ┌► его        det\n",
      "│ └►└─└─└─└─ комнате    ccomp\n",
      "│       └──► призрак    nmod\n",
      "└──────────► .          punct\n"
     ]
    }
   ],
   "source": [
    "doc.parse_syntax(syntax_parser)\n",
    "doc.sents[0].syntax.print()"
   ]
  },
  {
   "cell_type": "code",
   "execution_count": null,
   "metadata": {},
   "outputs": [],
   "source": []
  }
 ],
 "metadata": {
  "kernelspec": {
   "display_name": "Python 3.9.13 ('venv': venv)",
   "language": "python",
   "name": "python3"
  },
  "language_info": {
   "codemirror_mode": {
    "name": "ipython",
    "version": 3
   },
   "file_extension": ".py",
   "mimetype": "text/x-python",
   "name": "python",
   "nbconvert_exporter": "python",
   "pygments_lexer": "ipython3",
   "version": "3.9.13 (main, Jul 22 2022, 14:44:44) \n[Clang 13.1.6 (clang-1316.0.21.2.5)]"
  },
  "orig_nbformat": 4,
  "vscode": {
   "interpreter": {
    "hash": "b297fbb61c0be02dd5f4c4de5e5940ca5a8cb2db7807ed23e12864d0dba54868"
   }
  }
 },
 "nbformat": 4,
 "nbformat_minor": 2
}
